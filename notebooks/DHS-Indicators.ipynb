{
 "cells": [
  {
   "cell_type": "markdown",
   "metadata": {},
   "source": [
    "# Demographic and Health Surveys (DHS) Indicators\n",
    "\n",
    "This notebook walks through obtaining a list of all indicators in the [DHS API](http://api.dhsprogram.com/#/api-data.cfm) and then creates an adapter which pulls the indicator at the subnational (admin1) level for Ethiopia and formats it for ingestion into Datamarts."
   ]
  },
  {
   "cell_type": "code",
   "execution_count": 1,
   "metadata": {},
   "outputs": [],
   "source": [
    "import requests\n",
    "import pandas as pd"
   ]
  },
  {
   "cell_type": "markdown",
   "metadata": {},
   "source": [
    "# Obtain all dataset metadata"
   ]
  },
  {
   "cell_type": "code",
   "execution_count": 2,
   "metadata": {},
   "outputs": [],
   "source": [
    "initial_ = requests.get('http://api.dhsprogram.com/rest/dhs/v7/data?countryIds=ET').json()"
   ]
  },
  {
   "cell_type": "code",
   "execution_count": 3,
   "metadata": {},
   "outputs": [],
   "source": [
    "pages = initial_['TotalPages']"
   ]
  },
  {
   "cell_type": "code",
   "execution_count": 4,
   "metadata": {},
   "outputs": [],
   "source": [
    "datasets = []\n",
    "for p in range(1,pages+1):\n",
    "    d = requests.get(f'http://api.dhsprogram.com/rest/dhs/v7/data?countryIds=ET&page={p}').json()\n",
    "    datasets.extend(d['Data'])"
   ]
  },
  {
   "cell_type": "code",
   "execution_count": 5,
   "metadata": {},
   "outputs": [],
   "source": [
    "indicator_ids = list(set([i['IndicatorId'] for i in datasets]))"
   ]
  },
  {
   "cell_type": "code",
   "execution_count": 6,
   "metadata": {
    "scrolled": true
   },
   "outputs": [
    {
     "name": "stdout",
     "output_type": "stream",
     "text": [
      "There are 2856 total indicators in DHS for Ethiopia\n"
     ]
    }
   ],
   "source": [
    "print(f\"There are {len(indicator_ids)} total indicators in DHS for Ethiopia\")"
   ]
  },
  {
   "cell_type": "code",
   "execution_count": 7,
   "metadata": {
    "scrolled": false
   },
   "outputs": [
    {
     "name": "stdout",
     "output_type": "stream",
     "text": [
      "ML_FEVT_C_AMS\n",
      "HC_FLRM_H_PQT\n",
      "CH_DSTL_C_UNW\n",
      "SV_HRSM_H_DNF\n",
      "DV_FMVL_W_NUM\n",
      "AN_NUTS_W_NRM\n",
      "CH_DIAT_C_INC\n",
      "HA_AATT_W_VEG\n",
      "HC_LVAR_C_NBA\n",
      "SV_RESI_W_POS\n"
     ]
    }
   ],
   "source": [
    "for i in indicator_ids[:10]:\n",
    "    print(i)"
   ]
  },
  {
   "cell_type": "markdown",
   "metadata": {},
   "source": [
    "# Obtain Indicator Specific Timeseries"
   ]
  },
  {
   "cell_type": "code",
   "execution_count": 8,
   "metadata": {},
   "outputs": [],
   "source": [
    "def process_record(record):\n",
    "    row = {'time': record['SurveyYear'],\n",
    "           'country': record['CountryName'],\n",
    "           'admin_1': record['CharacteristicLabel'],\n",
    "           record['IndicatorId'] + '_value' : record['Value'],\n",
    "           record['IndicatorId'] + '_description': record['Indicator'],\n",
    "          }\n",
    "\n",
    "    qualifiers = [k for k in record.keys() if k not in ['CountryName','Value','Indicator','IndicatorId', 'CharacteristicLabel']]\n",
    "\n",
    "    for q in qualifiers:\n",
    "        row[record['IndicatorId'] + '_' + q] = record[q]\n",
    "\n",
    "    return row"
   ]
  },
  {
   "cell_type": "code",
   "execution_count": 9,
   "metadata": {},
   "outputs": [],
   "source": [
    "def get_indicator(indicator_id):\n",
    "    initial = requests.get(f'http://api.dhsprogram.com/rest/dhs/v7/data?countryIds=ET&indicatorIds={indicator_id}').json()    \n",
    "    pages = initial['TotalPages']\n",
    "    data = []\n",
    "    for p in range(1,pages+1):\n",
    "        d = requests.get(f'http://api.dhsprogram.com/rest/dhs/v7/data?countryIds=ET&indicatorIds={indicator_id}&breakdown=Subnational&page={p}').json()\n",
    "        for d_ in d['Data']:\n",
    "            data.append(process_record(d_))\n",
    "    return pd.DataFrame(data)"
   ]
  },
  {
   "cell_type": "code",
   "execution_count": 10,
   "metadata": {},
   "outputs": [],
   "source": [
    "data = get_indicator('DV_MCTL_W_ACC')"
   ]
  },
  {
   "cell_type": "code",
   "execution_count": 11,
   "metadata": {},
   "outputs": [
    {
     "data": {
      "text/html": [
       "<div>\n",
       "<style scoped>\n",
       "    .dataframe tbody tr th:only-of-type {\n",
       "        vertical-align: middle;\n",
       "    }\n",
       "\n",
       "    .dataframe tbody tr th {\n",
       "        vertical-align: top;\n",
       "    }\n",
       "\n",
       "    .dataframe thead th {\n",
       "        text-align: right;\n",
       "    }\n",
       "</style>\n",
       "<table border=\"1\" class=\"dataframe\">\n",
       "  <thead>\n",
       "    <tr style=\"text-align: right;\">\n",
       "      <th></th>\n",
       "      <th>time</th>\n",
       "      <th>country</th>\n",
       "      <th>admin_1</th>\n",
       "      <th>DV_MCTL_W_ACC_value</th>\n",
       "      <th>DV_MCTL_W_ACC_description</th>\n",
       "      <th>DV_MCTL_W_ACC_DataId</th>\n",
       "      <th>DV_MCTL_W_ACC_SurveyId</th>\n",
       "      <th>DV_MCTL_W_ACC_IsPreferred</th>\n",
       "      <th>DV_MCTL_W_ACC_SDRID</th>\n",
       "      <th>DV_MCTL_W_ACC_Precision</th>\n",
       "      <th>...</th>\n",
       "      <th>DV_MCTL_W_ACC_IndicatorType</th>\n",
       "      <th>DV_MCTL_W_ACC_CharacteristicId</th>\n",
       "      <th>DV_MCTL_W_ACC_CharacteristicCategory</th>\n",
       "      <th>DV_MCTL_W_ACC_CharacteristicOrder</th>\n",
       "      <th>DV_MCTL_W_ACC_ByVariableLabel</th>\n",
       "      <th>DV_MCTL_W_ACC_DenominatorUnweighted</th>\n",
       "      <th>DV_MCTL_W_ACC_DenominatorWeighted</th>\n",
       "      <th>DV_MCTL_W_ACC_CIHigh</th>\n",
       "      <th>DV_MCTL_W_ACC_IsTotal</th>\n",
       "      <th>DV_MCTL_W_ACC_ByVariableId</th>\n",
       "    </tr>\n",
       "  </thead>\n",
       "  <tbody>\n",
       "    <tr>\n",
       "      <th>0</th>\n",
       "      <td>2016</td>\n",
       "      <td>Ethiopia</td>\n",
       "      <td>Tigray</td>\n",
       "      <td>9.1</td>\n",
       "      <td>Women whose husband/partner frequently accuses...</td>\n",
       "      <td>2266009</td>\n",
       "      <td>ET2016DHS</td>\n",
       "      <td>1</td>\n",
       "      <td>DVMCTLWACC</td>\n",
       "      <td>1</td>\n",
       "      <td>...</td>\n",
       "      <td>I</td>\n",
       "      <td>406001</td>\n",
       "      <td>Region</td>\n",
       "      <td>1406001</td>\n",
       "      <td></td>\n",
       "      <td>493.0</td>\n",
       "      <td>316.0</td>\n",
       "      <td></td>\n",
       "      <td>0</td>\n",
       "      <td>0</td>\n",
       "    </tr>\n",
       "    <tr>\n",
       "      <th>1</th>\n",
       "      <td>2016</td>\n",
       "      <td>Ethiopia</td>\n",
       "      <td>Afar</td>\n",
       "      <td>6.4</td>\n",
       "      <td>Women whose husband/partner frequently accuses...</td>\n",
       "      <td>2263199</td>\n",
       "      <td>ET2016DHS</td>\n",
       "      <td>1</td>\n",
       "      <td>DVMCTLWACC</td>\n",
       "      <td>1</td>\n",
       "      <td>...</td>\n",
       "      <td>I</td>\n",
       "      <td>406002</td>\n",
       "      <td>Region</td>\n",
       "      <td>1406002</td>\n",
       "      <td></td>\n",
       "      <td>387.0</td>\n",
       "      <td>43.0</td>\n",
       "      <td></td>\n",
       "      <td>0</td>\n",
       "      <td>0</td>\n",
       "    </tr>\n",
       "    <tr>\n",
       "      <th>2</th>\n",
       "      <td>2016</td>\n",
       "      <td>Ethiopia</td>\n",
       "      <td>Amhara</td>\n",
       "      <td>6.7</td>\n",
       "      <td>Women whose husband/partner frequently accuses...</td>\n",
       "      <td>4608490</td>\n",
       "      <td>ET2016DHS</td>\n",
       "      <td>1</td>\n",
       "      <td>DVMCTLWACC</td>\n",
       "      <td>1</td>\n",
       "      <td>...</td>\n",
       "      <td>I</td>\n",
       "      <td>406003</td>\n",
       "      <td>Region</td>\n",
       "      <td>1406003</td>\n",
       "      <td></td>\n",
       "      <td>572.0</td>\n",
       "      <td>1085.0</td>\n",
       "      <td></td>\n",
       "      <td>0</td>\n",
       "      <td>0</td>\n",
       "    </tr>\n",
       "    <tr>\n",
       "      <th>3</th>\n",
       "      <td>2016</td>\n",
       "      <td>Ethiopia</td>\n",
       "      <td>Oromia</td>\n",
       "      <td>19.6</td>\n",
       "      <td>Women whose husband/partner frequently accuses...</td>\n",
       "      <td>3789240</td>\n",
       "      <td>ET2016DHS</td>\n",
       "      <td>1</td>\n",
       "      <td>DVMCTLWACC</td>\n",
       "      <td>1</td>\n",
       "      <td>...</td>\n",
       "      <td>I</td>\n",
       "      <td>406004</td>\n",
       "      <td>Region</td>\n",
       "      <td>1406004</td>\n",
       "      <td></td>\n",
       "      <td>649.0</td>\n",
       "      <td>1746.0</td>\n",
       "      <td></td>\n",
       "      <td>0</td>\n",
       "      <td>0</td>\n",
       "    </tr>\n",
       "    <tr>\n",
       "      <th>4</th>\n",
       "      <td>2016</td>\n",
       "      <td>Ethiopia</td>\n",
       "      <td>Somali</td>\n",
       "      <td>2.3</td>\n",
       "      <td>Women whose husband/partner frequently accuses...</td>\n",
       "      <td>4328282</td>\n",
       "      <td>ET2016DHS</td>\n",
       "      <td>1</td>\n",
       "      <td>DVMCTLWACC</td>\n",
       "      <td>1</td>\n",
       "      <td>...</td>\n",
       "      <td>I</td>\n",
       "      <td>406005</td>\n",
       "      <td>Region</td>\n",
       "      <td>1406005</td>\n",
       "      <td></td>\n",
       "      <td>464.0</td>\n",
       "      <td>132.0</td>\n",
       "      <td></td>\n",
       "      <td>0</td>\n",
       "      <td>0</td>\n",
       "    </tr>\n",
       "  </tbody>\n",
       "</table>\n",
       "<p>5 rows × 27 columns</p>\n",
       "</div>"
      ],
      "text/plain": [
       "   time   country admin_1  DV_MCTL_W_ACC_value  \\\n",
       "0  2016  Ethiopia  Tigray                  9.1   \n",
       "1  2016  Ethiopia    Afar                  6.4   \n",
       "2  2016  Ethiopia  Amhara                  6.7   \n",
       "3  2016  Ethiopia  Oromia                 19.6   \n",
       "4  2016  Ethiopia  Somali                  2.3   \n",
       "\n",
       "                           DV_MCTL_W_ACC_description  DV_MCTL_W_ACC_DataId  \\\n",
       "0  Women whose husband/partner frequently accuses...               2266009   \n",
       "1  Women whose husband/partner frequently accuses...               2263199   \n",
       "2  Women whose husband/partner frequently accuses...               4608490   \n",
       "3  Women whose husband/partner frequently accuses...               3789240   \n",
       "4  Women whose husband/partner frequently accuses...               4328282   \n",
       "\n",
       "  DV_MCTL_W_ACC_SurveyId  DV_MCTL_W_ACC_IsPreferred DV_MCTL_W_ACC_SDRID  \\\n",
       "0              ET2016DHS                          1          DVMCTLWACC   \n",
       "1              ET2016DHS                          1          DVMCTLWACC   \n",
       "2              ET2016DHS                          1          DVMCTLWACC   \n",
       "3              ET2016DHS                          1          DVMCTLWACC   \n",
       "4              ET2016DHS                          1          DVMCTLWACC   \n",
       "\n",
       "   DV_MCTL_W_ACC_Precision  ... DV_MCTL_W_ACC_IndicatorType  \\\n",
       "0                        1  ...                           I   \n",
       "1                        1  ...                           I   \n",
       "2                        1  ...                           I   \n",
       "3                        1  ...                           I   \n",
       "4                        1  ...                           I   \n",
       "\n",
       "  DV_MCTL_W_ACC_CharacteristicId DV_MCTL_W_ACC_CharacteristicCategory  \\\n",
       "0                         406001                               Region   \n",
       "1                         406002                               Region   \n",
       "2                         406003                               Region   \n",
       "3                         406004                               Region   \n",
       "4                         406005                               Region   \n",
       "\n",
       "   DV_MCTL_W_ACC_CharacteristicOrder  DV_MCTL_W_ACC_ByVariableLabel  \\\n",
       "0                            1406001                                  \n",
       "1                            1406002                                  \n",
       "2                            1406003                                  \n",
       "3                            1406004                                  \n",
       "4                            1406005                                  \n",
       "\n",
       "  DV_MCTL_W_ACC_DenominatorUnweighted DV_MCTL_W_ACC_DenominatorWeighted  \\\n",
       "0                               493.0                             316.0   \n",
       "1                               387.0                              43.0   \n",
       "2                               572.0                            1085.0   \n",
       "3                               649.0                            1746.0   \n",
       "4                               464.0                             132.0   \n",
       "\n",
       "  DV_MCTL_W_ACC_CIHigh  DV_MCTL_W_ACC_IsTotal DV_MCTL_W_ACC_ByVariableId  \n",
       "0                                           0                          0  \n",
       "1                                           0                          0  \n",
       "2                                           0                          0  \n",
       "3                                           0                          0  \n",
       "4                                           0                          0  \n",
       "\n",
       "[5 rows x 27 columns]"
      ]
     },
     "execution_count": 11,
     "metadata": {},
     "output_type": "execute_result"
    }
   ],
   "source": [
    "data.head()"
   ]
  }
 ],
 "metadata": {
  "kernelspec": {
   "display_name": "Python 3",
   "language": "python",
   "name": "python3"
  },
  "language_info": {
   "codemirror_mode": {
    "name": "ipython",
    "version": 3
   },
   "file_extension": ".py",
   "mimetype": "text/x-python",
   "name": "python",
   "nbconvert_exporter": "python",
   "pygments_lexer": "ipython3",
   "version": "3.7.6"
  }
 },
 "nbformat": 4,
 "nbformat_minor": 4
}
