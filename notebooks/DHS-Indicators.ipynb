{
 "cells": [
  {
   "cell_type": "markdown",
   "metadata": {},
   "source": [
    "# Demographic and Health Surveys (DHS) Indicators\n",
    "\n",
    "This notebook walks through obtaining a list of all indicators in the [DHS API](http://api.dhsprogram.com/#/api-data.cfm) and then creates an adapter which pulls the indicator at the subnational (admin1) level for Ethiopia and formats it for ingestion into Datamarts."
   ]
  },
  {
   "cell_type": "code",
   "execution_count": 1,
   "metadata": {},
   "outputs": [],
   "source": [
    "import requests\n",
    "import pandas as pd"
   ]
  },
  {
   "cell_type": "markdown",
   "metadata": {},
   "source": [
    "# Obtain all dataset metadata"
   ]
  },
  {
   "cell_type": "code",
   "execution_count": 2,
   "metadata": {},
   "outputs": [],
   "source": [
    "initial_ = requests.get('http://api.dhsprogram.com/rest/dhs/v7/data?countryIds=ET').json()"
   ]
  },
  {
   "cell_type": "code",
   "execution_count": 3,
   "metadata": {},
   "outputs": [],
   "source": [
    "pages = initial_['TotalPages']"
   ]
  },
  {
   "cell_type": "code",
   "execution_count": 4,
   "metadata": {},
   "outputs": [],
   "source": [
    "datasets = []\n",
    "for p in range(1,pages+1):\n",
    "    d = requests.get(f'http://api.dhsprogram.com/rest/dhs/v7/data?countryIds=ET&page={p}').json()\n",
    "    datasets.extend(d['Data'])"
   ]
  },
  {
   "cell_type": "code",
   "execution_count": 5,
   "metadata": {},
   "outputs": [],
   "source": [
    "indicator_ids = list(set([i['IndicatorId'] for i in datasets]))"
   ]
  },
  {
   "cell_type": "code",
   "execution_count": 6,
   "metadata": {
    "scrolled": true
   },
   "outputs": [
    {
     "name": "stdout",
     "output_type": "stream",
     "text": [
      "There are 2856 total indicators in DHS for Ethiopia\n"
     ]
    }
   ],
   "source": [
    "print(f\"There are {len(indicator_ids)} total indicators in DHS for Ethiopia\")"
   ]
  },
  {
   "cell_type": "code",
   "execution_count": 7,
   "metadata": {
    "scrolled": false
   },
   "outputs": [
    {
     "name": "stdout",
     "output_type": "stream",
     "text": [
      "CN_BRFS_C_EXB\n",
      "RH_PCCT_C_D36\n",
      "RH_PCMT_W_23H\n",
      "DV_SPVM_W_UNW\n",
      "WE_OWNA_M_HNM\n",
      "FP_EVUM_W_TRA\n",
      "EM_MERN_M_JNT\n",
      "HC_CKFL_H_KER\n",
      "ML_IPTP_W_UNW\n",
      "CM_ECMR_C_U5E\n"
     ]
    }
   ],
   "source": [
    "for i in indicator_ids[:10]:\n",
    "    print(i)"
   ]
  },
  {
   "cell_type": "markdown",
   "metadata": {},
   "source": [
    "# Obtain Indicator Specific Timeseries"
   ]
  },
  {
   "cell_type": "code",
   "execution_count": 8,
   "metadata": {},
   "outputs": [],
   "source": [
    "def process_record(record):\n",
    "    row = {'time': record['SurveyYear'],\n",
    "           'country': record['CountryName'],\n",
    "           'admin_1': record['CharacteristicLabel'],\n",
    "           record['IndicatorId']: record['Value'],\n",
    "           record['IndicatorId'] + '_description': record['Indicator'],\n",
    "          }\n",
    "\n",
    "    qualifiers = [k for k in record.keys() if k not in ['CountryName','Value','Indicator','IndicatorId', 'CharacteristicLabel']]\n",
    "\n",
    "    for q in qualifiers:\n",
    "        row[record['IndicatorId'] + '_' + q] = record[q]\n",
    "\n",
    "    return row"
   ]
  },
  {
   "cell_type": "code",
   "execution_count": 9,
   "metadata": {},
   "outputs": [],
   "source": [
    "def get_indicator(indicator_id):\n",
    "    initial = requests.get(f'http://api.dhsprogram.com/rest/dhs/v7/data?countryIds=ET&indicatorIds={indicator_id}').json()    \n",
    "    pages = initial['TotalPages']\n",
    "    data = []\n",
    "    for p in range(1,pages+1):\n",
    "        d = requests.get(f'http://api.dhsprogram.com/rest/dhs/v7/data?countryIds=ET&indicatorIds={indicator_id}&breakdown=Subnational&page={p}').json()\n",
    "        for d_ in d['Data']:\n",
    "            data.append(process_record(d_))\n",
    "    return pd.DataFrame(data)"
   ]
  },
  {
   "cell_type": "code",
   "execution_count": 10,
   "metadata": {},
   "outputs": [],
   "source": [
    "data = get_indicator('HC_CKFL_P_ELC')"
   ]
  },
  {
   "cell_type": "code",
   "execution_count": 11,
   "metadata": {},
   "outputs": [
    {
     "data": {
      "text/html": [
       "<div>\n",
       "<style scoped>\n",
       "    .dataframe tbody tr th:only-of-type {\n",
       "        vertical-align: middle;\n",
       "    }\n",
       "\n",
       "    .dataframe tbody tr th {\n",
       "        vertical-align: top;\n",
       "    }\n",
       "\n",
       "    .dataframe thead th {\n",
       "        text-align: right;\n",
       "    }\n",
       "</style>\n",
       "<table border=\"1\" class=\"dataframe\">\n",
       "  <thead>\n",
       "    <tr style=\"text-align: right;\">\n",
       "      <th></th>\n",
       "      <th>time</th>\n",
       "      <th>country</th>\n",
       "      <th>admin_1</th>\n",
       "      <th>HC_CKFL_P_ELC</th>\n",
       "      <th>HC_CKFL_P_ELC_description</th>\n",
       "      <th>HC_CKFL_P_ELC_DataId</th>\n",
       "      <th>HC_CKFL_P_ELC_SurveyId</th>\n",
       "      <th>HC_CKFL_P_ELC_IsPreferred</th>\n",
       "      <th>HC_CKFL_P_ELC_SDRID</th>\n",
       "      <th>HC_CKFL_P_ELC_Precision</th>\n",
       "      <th>...</th>\n",
       "      <th>HC_CKFL_P_ELC_IndicatorType</th>\n",
       "      <th>HC_CKFL_P_ELC_CharacteristicId</th>\n",
       "      <th>HC_CKFL_P_ELC_CharacteristicCategory</th>\n",
       "      <th>HC_CKFL_P_ELC_CharacteristicOrder</th>\n",
       "      <th>HC_CKFL_P_ELC_ByVariableLabel</th>\n",
       "      <th>HC_CKFL_P_ELC_DenominatorUnweighted</th>\n",
       "      <th>HC_CKFL_P_ELC_DenominatorWeighted</th>\n",
       "      <th>HC_CKFL_P_ELC_CIHigh</th>\n",
       "      <th>HC_CKFL_P_ELC_IsTotal</th>\n",
       "      <th>HC_CKFL_P_ELC_ByVariableId</th>\n",
       "    </tr>\n",
       "  </thead>\n",
       "  <tbody>\n",
       "    <tr>\n",
       "      <th>0</th>\n",
       "      <td>2000</td>\n",
       "      <td>Ethiopia</td>\n",
       "      <td>Tigray</td>\n",
       "      <td>0.7</td>\n",
       "      <td>Population cooking with electricity</td>\n",
       "      <td>3545006</td>\n",
       "      <td>ET2000DHS</td>\n",
       "      <td>1</td>\n",
       "      <td>HCCKFLPELC</td>\n",
       "      <td>1</td>\n",
       "      <td>...</td>\n",
       "      <td>I</td>\n",
       "      <td>406001</td>\n",
       "      <td>Region</td>\n",
       "      <td>1406001</td>\n",
       "      <td></td>\n",
       "      <td>6053.0</td>\n",
       "      <td>4366.0</td>\n",
       "      <td></td>\n",
       "      <td>0</td>\n",
       "      <td>0</td>\n",
       "    </tr>\n",
       "    <tr>\n",
       "      <th>1</th>\n",
       "      <td>2000</td>\n",
       "      <td>Ethiopia</td>\n",
       "      <td>Afar</td>\n",
       "      <td>0.0</td>\n",
       "      <td>Population cooking with electricity</td>\n",
       "      <td>2409400</td>\n",
       "      <td>ET2000DHS</td>\n",
       "      <td>1</td>\n",
       "      <td>HCCKFLPELC</td>\n",
       "      <td>1</td>\n",
       "      <td>...</td>\n",
       "      <td>I</td>\n",
       "      <td>406002</td>\n",
       "      <td>Region</td>\n",
       "      <td>1406002</td>\n",
       "      <td></td>\n",
       "      <td>3753.0</td>\n",
       "      <td>726.0</td>\n",
       "      <td></td>\n",
       "      <td>0</td>\n",
       "      <td>0</td>\n",
       "    </tr>\n",
       "    <tr>\n",
       "      <th>2</th>\n",
       "      <td>2000</td>\n",
       "      <td>Ethiopia</td>\n",
       "      <td>Amhara</td>\n",
       "      <td>0.0</td>\n",
       "      <td>Population cooking with electricity</td>\n",
       "      <td>927868</td>\n",
       "      <td>ET2000DHS</td>\n",
       "      <td>1</td>\n",
       "      <td>HCCKFLPELC</td>\n",
       "      <td>1</td>\n",
       "      <td>...</td>\n",
       "      <td>I</td>\n",
       "      <td>406003</td>\n",
       "      <td>Region</td>\n",
       "      <td>1406003</td>\n",
       "      <td></td>\n",
       "      <td>9161.0</td>\n",
       "      <td>17962.0</td>\n",
       "      <td></td>\n",
       "      <td>0</td>\n",
       "      <td>0</td>\n",
       "    </tr>\n",
       "    <tr>\n",
       "      <th>3</th>\n",
       "      <td>2000</td>\n",
       "      <td>Ethiopia</td>\n",
       "      <td>Oromia</td>\n",
       "      <td>0.0</td>\n",
       "      <td>Population cooking with electricity</td>\n",
       "      <td>1068330</td>\n",
       "      <td>ET2000DHS</td>\n",
       "      <td>1</td>\n",
       "      <td>HCCKFLPELC</td>\n",
       "      <td>1</td>\n",
       "      <td>...</td>\n",
       "      <td>I</td>\n",
       "      <td>406004</td>\n",
       "      <td>Region</td>\n",
       "      <td>1406004</td>\n",
       "      <td></td>\n",
       "      <td>11303.0</td>\n",
       "      <td>25733.0</td>\n",
       "      <td></td>\n",
       "      <td>0</td>\n",
       "      <td>0</td>\n",
       "    </tr>\n",
       "    <tr>\n",
       "      <th>4</th>\n",
       "      <td>2000</td>\n",
       "      <td>Ethiopia</td>\n",
       "      <td>Somali</td>\n",
       "      <td>0.1</td>\n",
       "      <td>Population cooking with electricity</td>\n",
       "      <td>2409426</td>\n",
       "      <td>ET2000DHS</td>\n",
       "      <td>1</td>\n",
       "      <td>HCCKFLPELC</td>\n",
       "      <td>1</td>\n",
       "      <td>...</td>\n",
       "      <td>I</td>\n",
       "      <td>406005</td>\n",
       "      <td>Region</td>\n",
       "      <td>1406005</td>\n",
       "      <td></td>\n",
       "      <td>4429.0</td>\n",
       "      <td>902.0</td>\n",
       "      <td></td>\n",
       "      <td>0</td>\n",
       "      <td>0</td>\n",
       "    </tr>\n",
       "  </tbody>\n",
       "</table>\n",
       "<p>5 rows × 27 columns</p>\n",
       "</div>"
      ],
      "text/plain": [
       "   time   country admin_1  HC_CKFL_P_ELC            HC_CKFL_P_ELC_description  \\\n",
       "0  2000  Ethiopia  Tigray            0.7  Population cooking with electricity   \n",
       "1  2000  Ethiopia    Afar            0.0  Population cooking with electricity   \n",
       "2  2000  Ethiopia  Amhara            0.0  Population cooking with electricity   \n",
       "3  2000  Ethiopia  Oromia            0.0  Population cooking with electricity   \n",
       "4  2000  Ethiopia  Somali            0.1  Population cooking with electricity   \n",
       "\n",
       "   HC_CKFL_P_ELC_DataId HC_CKFL_P_ELC_SurveyId  HC_CKFL_P_ELC_IsPreferred  \\\n",
       "0               3545006              ET2000DHS                          1   \n",
       "1               2409400              ET2000DHS                          1   \n",
       "2                927868              ET2000DHS                          1   \n",
       "3               1068330              ET2000DHS                          1   \n",
       "4               2409426              ET2000DHS                          1   \n",
       "\n",
       "  HC_CKFL_P_ELC_SDRID  HC_CKFL_P_ELC_Precision  ...  \\\n",
       "0          HCCKFLPELC                        1  ...   \n",
       "1          HCCKFLPELC                        1  ...   \n",
       "2          HCCKFLPELC                        1  ...   \n",
       "3          HCCKFLPELC                        1  ...   \n",
       "4          HCCKFLPELC                        1  ...   \n",
       "\n",
       "  HC_CKFL_P_ELC_IndicatorType HC_CKFL_P_ELC_CharacteristicId  \\\n",
       "0                           I                         406001   \n",
       "1                           I                         406002   \n",
       "2                           I                         406003   \n",
       "3                           I                         406004   \n",
       "4                           I                         406005   \n",
       "\n",
       "  HC_CKFL_P_ELC_CharacteristicCategory  HC_CKFL_P_ELC_CharacteristicOrder  \\\n",
       "0                               Region                            1406001   \n",
       "1                               Region                            1406002   \n",
       "2                               Region                            1406003   \n",
       "3                               Region                            1406004   \n",
       "4                               Region                            1406005   \n",
       "\n",
       "   HC_CKFL_P_ELC_ByVariableLabel HC_CKFL_P_ELC_DenominatorUnweighted  \\\n",
       "0                                                             6053.0   \n",
       "1                                                             3753.0   \n",
       "2                                                             9161.0   \n",
       "3                                                            11303.0   \n",
       "4                                                             4429.0   \n",
       "\n",
       "  HC_CKFL_P_ELC_DenominatorWeighted HC_CKFL_P_ELC_CIHigh  \\\n",
       "0                            4366.0                        \n",
       "1                             726.0                        \n",
       "2                           17962.0                        \n",
       "3                           25733.0                        \n",
       "4                             902.0                        \n",
       "\n",
       "   HC_CKFL_P_ELC_IsTotal HC_CKFL_P_ELC_ByVariableId  \n",
       "0                      0                          0  \n",
       "1                      0                          0  \n",
       "2                      0                          0  \n",
       "3                      0                          0  \n",
       "4                      0                          0  \n",
       "\n",
       "[5 rows x 27 columns]"
      ]
     },
     "execution_count": 11,
     "metadata": {},
     "output_type": "execute_result"
    }
   ],
   "source": [
    "data.head()"
   ]
  }
 ],
 "metadata": {
  "kernelspec": {
   "display_name": "Python 3",
   "language": "python",
   "name": "python3"
  },
  "language_info": {
   "codemirror_mode": {
    "name": "ipython",
    "version": 3
   },
   "file_extension": ".py",
   "mimetype": "text/x-python",
   "name": "python",
   "nbconvert_exporter": "python",
   "pygments_lexer": "ipython3",
   "version": "3.7.6"
  }
 },
 "nbformat": 4,
 "nbformat_minor": 4
}
